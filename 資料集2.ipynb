{
 "cells": [
  {
   "cell_type": "markdown",
   "id": "168594c3-9c81-4bc0-a727-9d996b6ae60f",
   "metadata": {},
   "source": [
    "### 步驟 1：載入必要套件與資料"
   ]
  },
  {
   "cell_type": "code",
   "execution_count": 29,
   "id": "36a77b9c-e340-4278-9339-c7a413370214",
   "metadata": {},
   "outputs": [],
   "source": [
    "import pandas as pd\n",
    "import numpy as np\n",
    "import json\n",
    "import re\n",
    "from sklearn.preprocessing import MinMaxScaler, OneHotEncoder\n",
    "from sklearn.metrics import pairwise_distances\n",
    "from sklearn.manifold import TSNE\n",
    "from dash import Dash, dcc, html, Input, Output\n",
    "import plotly.express as px\n",
    "import threading\n",
    "from jupyter_dash import JupyterDash\n",
    "import plotly.express as px\n",
    "import matplotlib.pyplot as plt"
   ]
  },
  {
   "cell_type": "markdown",
   "id": "f7513da5-1441-45b8-9879-2305e7313087",
   "metadata": {},
   "source": [
    "### 步驟 2：讀取資料集與資料擴增"
   ]
  },
  {
   "cell_type": "code",
   "execution_count": 2,
   "id": "1b76bff0-3df0-4e7e-9393-d0ba321fc65e",
   "metadata": {},
   "outputs": [
    {
     "name": "stdout",
     "output_type": "stream",
     "text": [
      "Index(['Class', 'Drink', 'Rank', 'Amount', 'Quantity', 'Count'], dtype='object')\n"
     ]
    }
   ],
   "source": [
    "df = pd.read_excel(\"資料集2 drink dataset.xlsx\")\n",
    "print(df.columns)"
   ]
  },
  {
   "cell_type": "markdown",
   "id": "6ef49a8d-b34f-4739-bb45-5ae19bf15aec",
   "metadata": {},
   "source": [
    "#### 將 Amount 與 Quantity 字串解析為數值\n",
    "#### Amount 是常態分佈參數，使用正規表示式抓取 (mean, std)\n",
    "#### Quantity 是整數亂數區間，格式為 Random(low, high)"
   ]
  },
  {
   "cell_type": "code",
   "execution_count": 4,
   "id": "602c5b38-dbf7-4f27-a8eb-6e6c32408329",
   "metadata": {},
   "outputs": [],
   "source": [
    "def parse_amount(val):\n",
    "    match = re.match(r\"\\((\\d+),\\s*(\\d+)\\)\", str(val))\n",
    "    if match:\n",
    "        mean, std = map(float, match.groups())\n",
    "        return np.random.normal(loc=mean, scale=std)\n",
    "    return np.nan\n",
    "\n",
    "def parse_quantity(val):\n",
    "    match = re.match(r\"Random\\((\\d+),\\s*(\\d+)\\)\", str(val))\n",
    "    if match:\n",
    "        low, high = map(int, match.groups())\n",
    "        return np.random.randint(low, high + 1)\n",
    "    return np.nan    "
   ]
  },
  {
   "cell_type": "markdown",
   "id": "1481c363-fc54-4521-add0-2316503f1adf",
   "metadata": {},
   "source": [
    "#### 依每筆資料的 Count，隨機生成相對應筆數的新資料。\n",
    "#### 新增欄位 Amount_val 和 Quantity_val 是解析後的數值"
   ]
  },
  {
   "cell_type": "code",
   "execution_count": 6,
   "id": "f079147b-0fed-4339-85e3-ee1558c5991e",
   "metadata": {},
   "outputs": [
    {
     "name": "stdout",
     "output_type": "stream",
     "text": [
      "  Class Drink  Rank      Amount           Quantity  Amount_val  Quantity_val\n",
      "0     A  Coke     8  (100, 200)  Random(500, 1000)  199.342831           606\n",
      "1     A  Coke     8  (100, 200)  Random(500, 1000)   72.347140           571\n",
      "2     A  Coke     8  (100, 200)  Random(500, 1000) -122.376024           966\n",
      "3     A  Coke     8  (100, 200)  Random(500, 1000)  163.780437           714\n",
      "4     A  Coke     8  (100, 200)  Random(500, 1000)  415.842563           649\n",
      "Index(['Class', 'Drink', 'Rank', 'Amount', 'Quantity', 'Amount_val',\n",
      "       'Quantity_val'],\n",
      "      dtype='object')\n"
     ]
    }
   ],
   "source": [
    "np.random.seed(42)\n",
    "expanded_rows = []\n",
    "\n",
    "for _, row in df.iterrows():\n",
    "    count = int(row['Count'])\n",
    "    for _ in range(count):\n",
    "        new_row = {}\n",
    "        new_row['Class'] = row['Class']\n",
    "        new_row['Drink'] = row['Drink']\n",
    "        new_row['Rank'] = row['Rank']\n",
    "        new_row['Amount'] = row['Amount']\n",
    "        new_row['Quantity'] = row['Quantity']\n",
    "        # 依格式抽樣\n",
    "        new_row['Amount_val'] = parse_amount(row['Amount'])\n",
    "        new_row['Quantity_val'] = parse_quantity(row['Quantity'])\n",
    "        expanded_rows.append(new_row)\n",
    "\n",
    "# 建立 DataFrame\n",
    "df = pd.DataFrame(expanded_rows)\n",
    "print(df.head())\n",
    "print(df.columns)"
   ]
  },
  {
   "cell_type": "markdown",
   "id": "8c69667c-0c8c-4a76-9654-84b747ad4a01",
   "metadata": {},
   "source": [
    "### 步驟 3：數值欄位正規化"
   ]
  },
  {
   "cell_type": "code",
   "execution_count": 12,
   "id": "ee62703c-c094-4bb7-aa0e-b87b765e0cf9",
   "metadata": {},
   "outputs": [
    {
     "data": {
      "text/plain": [
       "array([[1.        , 0.23752364, 0.60560561],\n",
       "       [1.        , 0.17612348, 0.57057057],\n",
       "       [1.        , 0.08197829, 0.96596597],\n",
       "       ...,\n",
       "       [0.        , 0.52850594, 0.22722723],\n",
       "       [0.        , 0.42968864, 0.15415415],\n",
       "       [0.        , 0.27335803, 0.03303303]])"
      ]
     },
     "execution_count": 12,
     "metadata": {},
     "output_type": "execute_result"
    }
   ],
   "source": [
    "num_cols = ['Rank', 'Amount_val', 'Quantity_val']\n",
    "scaler = MinMaxScaler()\n",
    "X_num = scaler.fit_transform(df[num_cols])\n",
    "X_num"
   ]
  },
  {
   "cell_type": "markdown",
   "id": "d9bf4de1-23fc-450e-8848-52a0736e50ec",
   "metadata": {},
   "source": [
    "### 步驟 4：t-SNE"
   ]
  },
  {
   "cell_type": "markdown",
   "id": "2dea6cac-bca2-4cc0-bdc3-7985cbf91908",
   "metadata": {},
   "source": [
    "### 4-1. One-hot 編碼後 t-SNE\n",
    "#### 將名目欄位 Drink 做 One-hot 編碼\n",
    "#### 將其與數值特徵組合成新特徵矩陣，進行 t-SNE"
   ]
  },
  {
   "cell_type": "code",
   "execution_count": 14,
   "id": "a8ebdf99-349c-4f3c-afac-d400f6026b62",
   "metadata": {},
   "outputs": [],
   "source": [
    "encoder = OneHotEncoder(sparse_output=False)\n",
    "X_onehot = encoder.fit_transform(df[['Drink']])\n",
    "X1 = np.hstack([X_num, X_onehot])\n",
    "tsne1 = TSNE(n_components=2, random_state=42, perplexity=100, init='pca')\n",
    "X_tsne_onehot = tsne1.fit_transform(X1)"
   ]
  },
  {
   "cell_type": "markdown",
   "id": "38e49fc3-6422-4df2-9bba-db6cc76ecb8c",
   "metadata": {},
   "source": [
    "### 4-2. 使用人工設定 的t-SNE\n",
    "#### 人工指定每對 Drink 之間的相似度"
   ]
  },
  {
   "cell_type": "code",
   "execution_count": 15,
   "id": "fd9e687b-8c06-4617-80fc-ad532ce29a7f",
   "metadata": {},
   "outputs": [],
   "source": [
    "drink_similarity = {\n",
    "    'Coke': {'Coke': 1.0, 'Pepsi': 0.9, 'Sprite': 0.9, '7Up': 0.9, 'Cappuccino': 0.1, 'Espresso': 0.1, 'Latte': 0.1, 'Mocha': 0.1},\n",
    "    'Pepsi': {'Coke': 0.9, 'Pepsi': 1.0, 'Sprite': 0.9, '7Up': 0.9, 'Cappuccino': 0.1, 'Espresso': 0.1, 'Latte': 0.1, 'Mocha': 0.1},\n",
    "    'Sprite': {'Coke': 0.9, 'Pepsi': 0.9, 'Sprite': 1.0, '7Up': 0.9, 'Cappuccino': 0.1, 'Espresso': 0.1, 'Latte': 0.1, 'Mocha': 0.1},\n",
    "    '7Up': {'Coke': 0.9, 'Pepsi': 0.9, 'Sprite': 0.9, '7Up': 1.0, 'Cappuccino': 0.1, 'Espresso': 0.1, 'Latte': 0.1, 'Mocha': 0.1},\n",
    "    'Cappuccino': {'Coke': 0.2, 'Pepsi': 0.2, 'Sprite': 0.2, '7Up': 0.2, 'Cappuccino': 1.0, 'Espresso': 0.8,'Latte': 0.8, 'Mocha': 0.8},\n",
    "    'Espresso': {'Coke': 0.2, 'Pepsi': 0.2, 'Sprite': 0.2,  '7Up': 0.2, 'Cappuccino': 0.8, 'Espresso': 1.0, 'Latte': 0.8, 'Mocha': 0.8},\n",
    "    'Latte': {'Coke': 0.2, 'Pepsi': 0.2, 'Sprite': 0.2, '7Up': 0.2, 'Cappuccino': 0.8, 'Espresso': 0.8, 'Latte': 1.0, 'Mocha': 0.8},\n",
    "    'Mocha': {'Coke': 0.2, 'Pepsi': 0.2, 'Sprite': 0.2, '7Up': 0.2, 'Cappuccino': 0.8, 'Espresso': 0.8, 'Latte': 0.8, 'Mocha': 1.0},\n",
    "}\n",
    "\n",
    "# 相似度表轉為距離矩陣\n",
    "n = len(df)\n",
    "cat_dist = np.zeros((n, n))\n",
    "for i in range(n):\n",
    "    for j in range(n):\n",
    "        sim = drink_similarity[df['Drink'][i]][df['Drink'][j]]\n",
    "        cat_dist[i, j] = 1 - sim        \n",
    "num_dist = pairwise_distances(X_num, metric='euclidean')\n",
    "#計算數值距離矩陣後也做正規化，保持與類別距離在同樣尺度。\n",
    "num_dist = (num_dist - num_dist.min()) / (num_dist.max() - num_dist.min())\n",
    "cat_dist = (cat_dist - cat_dist.min()) / (cat_dist.max() - cat_dist.min())\n",
    "#結合兩者：70% 數值距離 + 30% 名目型距離（可調整權重）\n",
    "total_dist = 0.7 * num_dist + 0.3 * cat_dist\n",
    "tsne2 = TSNE(n_components=2, metric='precomputed', random_state=42, init='random', perplexity=100)\n",
    "X_tsne_sim = tsne2.fit_transform(total_dist)"
   ]
  },
  {
   "cell_type": "markdown",
   "id": "4a350356-b29b-4d63-a570-93ce18f06c81",
   "metadata": {},
   "source": [
    "### 步驟 5：建立 Dash 互動式應用"
   ]
  },
  {
   "cell_type": "markdown",
   "id": "ba8e3d78-490f-454f-91c3-c5a63c85a04f",
   "metadata": {},
   "source": [
    "#### 使用人工設定 的t-SNE結果"
   ]
  },
  {
   "cell_type": "code",
   "execution_count": 25,
   "id": "113685a3-e334-4963-9f41-ff71222b42b8",
   "metadata": {},
   "outputs": [
    {
     "data": {
      "text/html": [
       "\n",
       "        <iframe\n",
       "            width=\"100%\"\n",
       "            height=\"650\"\n",
       "            src=\"http://127.0.0.1:8051/\"\n",
       "            frameborder=\"0\"\n",
       "            allowfullscreen\n",
       "            \n",
       "        ></iframe>\n",
       "        "
      ],
      "text/plain": [
       "<IPython.lib.display.IFrame at 0x23a3a88fe30>"
      ]
     },
     "metadata": {},
     "output_type": "display_data"
    }
   ],
   "source": [
    "# 加入 t-SNE 結果欄位到 DataFrame\n",
    "df_plot = df.copy()\n",
    "df_plot['tsne1_x'] = X_tsne_onehot[:, 0]\n",
    "df_plot['tsne1_y'] = X_tsne_onehot[:, 1]\n",
    "df_plot['tsne2_x'] = X_tsne_sim[:, 0]\n",
    "df_plot['tsne2_y'] = X_tsne_sim[:, 1]\n",
    "\n",
    "# 建立 Dash 應用\n",
    "app = Dash(__name__)\n",
    "\n",
    "app.layout = html.Div([\n",
    "    html.H3(\"t-SNE One-hot\"),\n",
    "    dcc.Graph(\n",
    "        id='tsne-onehot',\n",
    "        figure=px.scatter(\n",
    "            df_plot,\n",
    "            x='tsne1_x', y='tsne1_y',\n",
    "            color='Class',\n",
    "            custom_data=['Class', 'Drink', 'Rank', 'Amount', 'Quantity', 'Amount_val', 'Quantity_val']\n",
    "        ).update_traces(marker_size=6, selector=dict(mode='markers'))\n",
    "    ),\n",
    "    \n",
    "    html.H3(\"t-SNE with Distance Hierarchy\"),\n",
    "    dcc.Graph(\n",
    "        id='tsne-sim',\n",
    "        figure=px.scatter(\n",
    "            df_plot,\n",
    "            x='tsne2_x', y='tsne2_y',\n",
    "            color='Class',\n",
    "            custom_data=['Class', 'Drink', 'Rank', 'Amount', 'Quantity', 'Amount_val', 'Quantity_val']\n",
    "        ).update_traces(marker_size=6, selector=dict(mode='markers'))\n",
    "    ),\n",
    "    \n",
    "    html.H4(\"選取的資料點\"),\n",
    "    html.Pre(id='output-selected')\n",
    "])\n",
    "\n",
    "@app.callback(\n",
    "    Output('output-selected', 'children'),\n",
    "    [Input('tsne-onehot', 'selectedData'),\n",
    "     Input('tsne-sim', 'selectedData')]\n",
    ")\n",
    "def display_selected_data(selected1, selected2):\n",
    "    result = []\n",
    "    \n",
    "    for i, selected in enumerate([selected1, selected2]):\n",
    "        if selected and \"points\" in selected:\n",
    "            result.append(f\"圖 {i+1} 圈選資料點：\")\n",
    "            for pt in selected[\"points\"]:\n",
    "                cd = pt[\"customdata\"]\n",
    "                result.append(f\"- Class: {cd[0]}, Drink: {cd[1]}, Rank: {cd[2]}, Amount_val: {cd[5]:.2f}\")\n",
    "        else:\n",
    "            result.append(f\"圖 {i+1} 未圈選資料\")\n",
    "    \n",
    "    return \"\\n\".join(result)\n",
    "\n",
    "if __name__ == '__main__':\n",
    "    app.run(debug=True, port=8051)"
   ]
  },
  {
   "cell_type": "markdown",
   "id": "0b297922-9677-440a-83cf-a1688a4cd057",
   "metadata": {},
   "source": [
    "### 步驟 6：可視化圖"
   ]
  },
  {
   "cell_type": "code",
   "execution_count": 31,
   "id": "816177bb-7134-400d-8176-5d76dd2aabc5",
   "metadata": {},
   "outputs": [
    {
     "data": {
      "image/png": "[encoded data removed]",
      "text/plain": [
       "<Figure size 1400x600 with 2 Axes>"
      ]
     },
     "metadata": {},
     "output_type": "display_data"
    }
   ],
   "source": [
    "plt.figure(figsize=(14, 6))\n",
    "# One-hot 結果\n",
    "plt.subplot(1, 2, 1)\n",
    "for label in df['Class'].unique():\n",
    "    idx = df['Class'] == label\n",
    "    plt.scatter(X_tsne_onehot[idx, 0], X_tsne_onehot[idx, 1], label=label)\n",
    "plt.title(\"t-SNE (One-hot Encoding)\")\n",
    "#plt.xlim(-30,30)\n",
    "#plt.ylim(-30, 30)\n",
    "\n",
    "#  人工設定 結果\n",
    "plt.subplot(1, 2, 2)\n",
    "for label in df['Class'].unique():\n",
    "    idx = df['Class'] == label\n",
    "    plt.scatter(X_tsne_sim[idx, 0], X_tsne_sim[idx, 1], label=label)\n",
    "plt.title(\"t-SNE (distance hierarchy)\")\n",
    "#plt.xlim(-30, 30)\n",
    "#plt.ylim(-30, 30)\n",
    "\n",
    "plt.tight_layout()\n",
    "plt.legend()\n",
    "plt.show()"
   ]
  },
  {
   "cell_type": "code",
   "execution_count": null,
   "id": "ed023487-eb2a-4331-b33d-0f629a7c8184",
   "metadata": {},
   "outputs": [],
   "source": []
  }
 ],
 "metadata": {
  "kernelspec": {
   "display_name": "Python [conda env:base] *",
   "language": "python",
   "name": "conda-base-py"
  },
  "language_info": {
   "codemirror_mode": {
    "name": "ipython",
    "version": 3
   },
   "file_extension": ".py",
   "mimetype": "text/x-python",
   "name": "python",
   "nbconvert_exporter": "python",
   "pygments_lexer": "ipython3",
   "version": "3.12.7"
  }
 },
 "nbformat": 4,
 "nbformat_minor": 5
}
